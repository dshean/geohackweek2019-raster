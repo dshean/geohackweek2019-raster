{
 "cells": [
  {
   "cell_type": "markdown",
   "metadata": {},
   "source": [
    "# Raster formats and libraries\n",
    "\n",
    "This notebook based on content from previous geohackweek raster tutorials https://github.com/geohackweek/raster\n",
    "\n",
    "<blockquote class=\"objectives\">\n",
    "    \n",
    "## Overview\n",
    "\n",
    "<div style=\"float: left;\">\n",
    "\n",
    "**teaching:** 15 minutes\n",
    "    \n",
    "**exercises:** 0\n",
    "    </div> \n",
    "    \n",
    "|questions| objectives | \n",
    "|:----------| :---  |\n",
    "| What sorts of formats are available for representing raster datasets?  | Understand the high-level data interchange formats for raster datasets. |  \n",
    "\n",
    "</blockquote>"
   ]
  },
  {
   "cell_type": "markdown",
   "metadata": {},
   "source": [
    "### Table of contents\n",
    "\n",
    "1. [**Raster Data Format**](#Raster-Data-Format)\n",
    "    1. [About Raster Data](#About-Raster-Data)\n",
    "1. [**Geospatial Data Abstraction Library (GDAL)**](#Geospatial-Data-Abstraction-Library-(GDAL))\n",
    "    1. [Converting formats](#Converting-formats)\n",
    "    1. [Reprojection](#Reprojection)\n",
    "    1. [Visualization and computation](#Visualization-and-computation)\n",
    "1. [**Raster Tiles**](#Raster-Tiles)  "
   ]
  },
  {
   "cell_type": "markdown",
   "metadata": {},
   "source": [
    "### Raster Data Format \n",
    "\n",
    "Raster data can come in many different formats. One of the most pervasive comments currently is the `GeoTIFF` format which has the extension `.tif`. A `.tif` file stores metadata or attributes about the file as embedded `tif tags`. For instance, your camera might store EXIF tags that describes the make and model of the camera or the date the photo was taken when it saves a `.tif`. A GeoTIFF is a standard `.tif` image format with additional spatial (georeferencing) information embedded in the file\n",
    "as tags. These tags should include the following raster metadata:\n",
    "\n",
    "1. Geotransform (defines extent, resolution)\n",
    "2. Coordinate Reference System (CRS)\n",
    "3. Values that represent missing data (`NoDataValue`) \n",
    "\n",
    "Spatially-aware applications such as [QGIS](https://qgis.org) are careful to interpret this metadata appropriately.  If we aren't careful (or are using a raster-editing application that ignores spatial information), we can accidentally strip this spatial metadata.  Photoshop, for example, can edit GeoTiffs, but we'll lose the embedded CRS and geotransform if we save to the same file!\n",
    "\n",
    "<blockquote class=\"callout\">\n",
    "\n",
    "## More Resources on the  `.tif` format\n",
    "\n",
    "* [GeoTIFF on Wikipedia](https://en.wikipedia.org/wiki/GeoTIFF)\n",
    "* [Cloud-optimized Geotiffs (COGs)](https://www.cogeo.org)\n",
    "\n",
    "</blockquote>"
   ]
  },
  {
   "cell_type": "markdown",
   "metadata": {},
   "source": [
    "### Geospatial Data Abstraction Library (GDAL)\n",
    "[GDAL](http://gdal.org) is the de facto standard library for\n",
    "interaction and manipulation of geospatial raster data.  The primary purpose of GDAL is to read, write and transform geospatial datasets in a way that makes sense in the context of its spatial metadata.  GDAL also includes a set of [command-line utilities](http://www.gdal.org/gdal_utilities.html) (e.g., `gdalinfo`, `gdal_translate`, `gdalwarp`) for convenient inspection and manipulation of raster data.\n",
    "\n",
    "GDAL's support for different file formats depends on the format drivers that have been implemented, and the libraries that are available at compile time. To find the available formats for your current install of GDAL:"
   ]
  },
  {
   "cell_type": "code",
   "execution_count": 15,
   "metadata": {},
   "outputs": [
    {
     "name": "stdout",
     "output_type": "stream",
     "text": [
      "GDAL 2.4.1, released 2019/03/15\n"
     ]
    }
   ],
   "source": [
    "# ! runs a terminal command\n",
    "!gdalinfo --version"
   ]
  },
  {
   "cell_type": "code",
   "execution_count": 2,
   "metadata": {},
   "outputs": [
    {
     "name": "stdout",
     "output_type": "stream",
     "text": [
      "Supported Formats:\n",
      "  VRT -raster- (rw+v): Virtual Raster\n",
      "  DERIVED -raster- (ro): Derived datasets using VRT pixel functions\n",
      "  GTiff -raster- (rw+vs): GeoTIFF\n",
      "  NITF -raster- (rw+vs): National Imagery Transmission Format\n"
     ]
    }
   ],
   "source": [
    "# Output cropped to 5 lines\n",
    "!gdalinfo --formats | head -n 5"
   ]
  },
  {
   "cell_type": "code",
   "execution_count": 3,
   "metadata": {},
   "outputs": [],
   "source": [
    "# Get information about a given datatype\n",
    "#!gdalinfo --format GTiff"
   ]
  },
  {
   "cell_type": "code",
   "execution_count": 13,
   "metadata": {},
   "outputs": [],
   "source": [
    "# GDAL can operate on local files or even read files stored on a server:\n",
    "HOST = 'http://landsat-pds.s3.amazonaws.com/c1/L8/042/034/LC08_L1TP_042034_20170616_20170629_01_T1'\n",
    "IMAGE = 'LC08_L1TP_042034_20170616_20170629_01_T1_B4.TIF'"
   ]
  },
  {
   "cell_type": "code",
   "execution_count": 16,
   "metadata": {},
   "outputs": [
    {
     "name": "stdout",
     "output_type": "stream",
     "text": [
      "Driver: GTiff/GeoTIFF\n",
      "Files: /vsicurl/http://landsat-pds.s3.amazonaws.com/c1/L8/042/034/LC08_L1TP_042034_20170616_20170629_01_T1/LC08_L1TP_042034_20170616_20170629_01_T1_B4.TIF\n",
      "       /vsicurl/http://landsat-pds.s3.amazonaws.com/c1/L8/042/034/LC08_L1TP_042034_20170616_20170629_01_T1/LC08_L1TP_042034_20170616_20170629_01_T1_B4.TIF.ovr\n",
      "       /vsicurl/http://landsat-pds.s3.amazonaws.com/c1/L8/042/034/LC08_L1TP_042034_20170616_20170629_01_T1/LC08_L1TP_042034_20170616_20170629_01_T1_MTL.txt\n",
      "Size is 7821, 7951\n",
      "Coordinate System is:\n",
      "PROJCS[\"WGS 84 / UTM zone 11N\",\n",
      "    GEOGCS[\"WGS 84\",\n",
      "        DATUM[\"WGS_1984\",\n",
      "            SPHEROID[\"WGS 84\",6378137,298.257223563,\n",
      "                AUTHORITY[\"EPSG\",\"7030\"]],\n",
      "            AUTHORITY[\"EPSG\",\"6326\"]],\n",
      "        PRIMEM[\"Greenwich\",0,\n",
      "            AUTHORITY[\"EPSG\",\"8901\"]],\n",
      "        UNIT[\"degree\",0.0174532925199433,\n",
      "            AUTHORITY[\"EPSG\",\"9122\"]],\n",
      "        AUTHORITY[\"EPSG\",\"4326\"]],\n",
      "    PROJECTION[\"Transverse_Mercator\"],\n",
      "    PARAMETER[\"latitude_of_origin\",0],\n",
      "    PARAMETER[\"central_meridian\",-117],\n",
      "    PARAMETER[\"scale_factor\",0.9996],\n",
      "    PARAMETER[\"false_easting\",500000],\n",
      "    PARAMETER[\"false_northing\",0],\n",
      "    UNIT[\"metre\",1,\n",
      "        AUTHORITY[\"EPSG\",\"9001\"]],\n",
      "    AXIS[\"Easting\",EAST],\n",
      "    AXIS[\"Northing\",NORTH],\n",
      "    AUTHORITY[\"EPSG\",\"32611\"]]\n",
      "Origin = (204285.000000000000000,4268115.000000000000000)\n",
      "Pixel Size = (30.000000000000000,-30.000000000000000)\n",
      "Metadata:\n",
      "  AREA_OR_POINT=Point\n",
      "  METADATATYPE=ODL\n",
      "Image Structure Metadata:\n",
      "  COMPRESSION=DEFLATE\n",
      "  INTERLEAVE=BAND\n",
      "Corner Coordinates:\n",
      "Upper Left  (  204285.000, 4268115.000) (120d23'29.18\"W, 38d30'44.39\"N)\n",
      "Lower Left  (  204285.000, 4029585.000) (120d17'44.96\"W, 36d21'57.41\"N)\n",
      "Upper Right (  438915.000, 4268115.000) (117d42' 3.98\"W, 38d33'33.76\"N)\n",
      "Lower Right (  438915.000, 4029585.000) (117d40'52.67\"W, 36d24'34.20\"N)\n",
      "Center      (  321600.000, 4148850.000) (119d 1' 2.61\"W, 37d28' 9.59\"N)\n",
      "Band 1 Block=512x512 Type=UInt16, ColorInterp=Gray\n",
      "  Overviews: 2607x2651, 869x884, 290x295, 97x99\n"
     ]
    }
   ],
   "source": [
    "# NOTE we are expanding python variables defined above with {}\n",
    "!gdalinfo /vsicurl/{HOST}/{IMAGE}"
   ]
  },
  {
   "cell_type": "markdown",
   "metadata": {},
   "source": [
    "### Converting formats\n",
    "\n",
    "Often you want files in a specific format. GDAL is great for format conversions. One of the most powerful and useful formats is the `virtual raster` [VRT format](https://www.gdal.org/gdal_vrttut.html). It is essentially an XML file that fully describes a raster, but does not duplicate the binary data. For example, you can save a reference to a remote file to your local disk without downloading the entire file!"
   ]
  },
  {
   "cell_type": "code",
   "execution_count": 17,
   "metadata": {},
   "outputs": [
    {
     "name": "stdout",
     "output_type": "stream",
     "text": [
      "Input file size is 7821, 7951\n"
     ]
    }
   ],
   "source": [
    "%%bash\n",
    "# Alternatively you can run a short bash script with %%bash\n",
    "HOST='http://landsat-pds.s3.amazonaws.com/c1/L8/042/034/LC08_L1TP_042034_20170616_20170629_01_T1'\n",
    "IMAGE='LC08_L1TP_042034_20170616_20170629_01_T1_B4.TIF'\n",
    "gdal_translate -of VRT /vsicurl/$HOST/$IMAGE LC08_L1TP_042034_20170616_20170629_01_T1_B4.vrt"
   ]
  },
  {
   "cell_type": "code",
   "execution_count": 23,
   "metadata": {},
   "outputs": [
    {
     "name": "stdout",
     "output_type": "stream",
     "text": [
      "PROJCS[\"WGS 84 / UTM zone 11N\",\n"
     ]
    }
   ],
   "source": [
    "# Now you can forget about the strange '/vsicurl/' syntax and just work directly with the local file. \n",
    "# The command below should give you the same print-out as earlier.\n",
    "!gdalinfo LC08_L1TP_042034_20170616_20170629_01_T1_B4.vrt | grep PROJCS"
   ]
  },
  {
   "cell_type": "markdown",
   "metadata": {},
   "source": [
    "### Reprojection\n",
    "\n",
    "Another common task is warping an image to a different coordinate system. Note from above that the file we are working with has a CRS of UTM 11N. [Universal Transverse Mercator](https://en.wikipedia.org/wiki/Universal_Transverse_Mercator_coordinate_system) is a very common raster format for small bounding boxes because the x and y dimensions are in units of meters. \n",
    "\n",
    "Whenever you want to convert from one CRS to another, it is extremely useful to use [EPSG Codes](https://spatialreference.org/ref/epsg/). These codes are essentially a  shorthand and internationally agreed upon database of all the CRS's out there. Two of the most common ones that are worth memorizing are `4326` which is unprojected WGS84 Lat/Lon, and `3857` which is Google Mercator, used extensively for maps on the web. \n",
    "\n",
    "The example command below warps the image from UTM Coordinates to WGS84 lat/lon coordinates:"
   ]
  },
  {
   "cell_type": "code",
   "execution_count": 19,
   "metadata": {},
   "outputs": [
    {
     "name": "stdout",
     "output_type": "stream",
     "text": [
      "Creating output file that is 8812P x 7132L.\n",
      "Processing /vsicurl/http://landsat-pds.s3.amazonaws.com/c1/L8/042/034/LC08_L1TP_042034_20170616_20170629_01_T1/LC08_L1TP_042034_20170616_20170629_01_T1_B4.TIF [1/1] : 0...10...20...30...40...50...60...70...80...90...100 - done.\n"
     ]
    }
   ],
   "source": [
    "!gdalwarp -t_srs EPSG:4326 -of VRT /vsicurl/{HOST}/{IMAGE} LC08_L1TP_042034_20170616_20170629_01_T1_B4-wgs84.vrt"
   ]
  },
  {
   "cell_type": "code",
   "execution_count": 26,
   "metadata": {},
   "outputs": [
    {
     "name": "stdout",
     "output_type": "stream",
     "text": [
      "Driver: VRT/Virtual Raster\n",
      "Files: LC08_L1TP_042034_20170616_20170629_01_T1_B4-wgs84.vrt\n",
      "       /vsicurl/http://landsat-pds.s3.amazonaws.com/c1/L8/042/034/LC08_L1TP_042034_20170616_20170629_01_T1/LC08_L1TP_042034_20170616_20170629_01_T1_B4.TIF\n",
      "Size is 8812, 7132\n",
      "Coordinate System is:\n",
      "GEOGCS[\"WGS 84\",\n",
      "    DATUM[\"WGS_1984\",\n",
      "        SPHEROID[\"WGS 84\",6378137,298.257223563,\n",
      "            AUTHORITY[\"EPSG\",\"7030\"]],\n",
      "        AUTHORITY[\"EPSG\",\"6326\"]],\n",
      "    PRIMEM[\"Greenwich\",0,\n",
      "        AUTHORITY[\"EPSG\",\"8901\"]],\n",
      "    UNIT[\"degree\",0.0174532925199433,\n",
      "        AUTHORITY[\"EPSG\",\"9122\"]],\n",
      "    AUTHORITY[\"EPSG\",\"4326\"]]\n",
      "Origin = (-120.391439278664379,38.559377085787425)\n",
      "Pixel Size = (0.000307568822054,-0.000307568822054)\n",
      "Metadata:\n",
      "  AREA_OR_POINT=Point\n",
      "Corner Coordinates:\n",
      "Upper Left  (-120.3914393,  38.5593771) (120d23'29.18\"W, 38d33'33.76\"N)\n",
      "Lower Left  (-120.3914393,  36.3657962) (120d23'29.18\"W, 36d21'56.87\"N)\n",
      "Upper Right (-117.6811428,  38.5593771) (117d40'52.11\"W, 38d33'33.76\"N)\n",
      "Lower Right (-117.6811428,  36.3657962) (117d40'52.11\"W, 36d21'56.87\"N)\n",
      "Center      (-119.0362910,  37.4625867) (119d 2'10.65\"W, 37d27'45.31\"N)\n",
      "Band 1 Block=512x128 Type=UInt16, ColorInterp=Gray\n",
      "  Overviews: 2937x2377, 979x792, 327x264, 109x88\n"
     ]
    }
   ],
   "source": [
    "# Confirm reprojection by looking at the new coordinates\n",
    "# Note the pixel size and corner coordinates are now in units of degrees\n",
    "!gdalinfo LC08_L1TP_042034_20170616_20170629_01_T1_B4-wgs84.vrt"
   ]
  },
  {
   "cell_type": "markdown",
   "metadata": {},
   "source": [
    "## Raster Tiles\n",
    "\n",
    "When rasters cover very large areas, or are very high resolution, it is convenient to chop them up into discrete tiles that can be reassembled into the full image. This is especially true for interactive web maps where we want to visualize a raster at a resolution appropriate for a given zoom level. If you are looking at the entire globe, there is no reason to render an image at 30m resolution because our eyes can't discern the detail. Conversly if we are zoomed into a city, we want the full resolution data displayed. This schematic illustrates tiling:\n",
    "\n",
    "<img src=\"ArcGIS-raster-tiles.png\" width=\"300\"/>\n",
    "*Source: http://desktop.arcgis.com.*\n",
    "\n",
    "It is important to note that the bounding boxes of tiles, as well as the pixel averaging scheme affects how the raster appears at a given zoom level. There are common standard tiling schemes for web maps - check out the [mercantile library](https://github.com/mapbox/mercantile). GDAL also offers utilities to easily generate tiles from any raster. For example, see [`gdal2tiles.py`](https://gdal.org/programs/gdal2tiles.html)  or the [`MBTiles` format](https://gdal.org/drivers/raster/mbtiles.html).\n"
   ]
  },
  {
   "cell_type": "markdown",
   "metadata": {},
   "source": [
    "## Visualization and computation\n",
    "\n",
    "This just scratches the surface of what GDAL is capable of. Next you might want to look into sampling raster values with [`gdallocationinfo`](https://gdal.org/programs/gdal_calc.html) or performing computations with [`gdal_calc`](https://gdal.org/programs/gdal_calc.html). GDAL itself does not handle graphics for visualizing graphics, but it underpins many graphical GIS programs, such as [QGIS](https://qgis.org). We'll look at visualization with Python libraries next."
   ]
  },
  {
   "cell_type": "markdown",
   "metadata": {},
   "source": [
    "<blockquote class=\"keypoints\">\n",
    "\n",
    "## key points \n",
    "\n",
    "- The Geospatial Data Abstraction Library (GDAL) is very useful for reading, writing and transforming rasters\n",
    "    \n",
    "</blockquote class=\"keypoints\">"
   ]
  },
  {
   "cell_type": "code",
   "execution_count": 28,
   "metadata": {},
   "outputs": [
    {
     "data": {
      "text/html": [
       "<style>\n",
       "@font-face {\n",
       "  font-family: 'Glyphicons Halflings';\n",
       "  src: url('//cdnjs.cloudflare.com/ajax/libs/twitter-bootstrap/3.3.7/fonts/glyphicons-halflings-regular.eot');\n",
       "  src: url('//cdnjs.cloudflare.com/ajax/libs/twitter-bootstrap/3.3.7/fonts/glyphicons-halflings-regular.eot?#iefix') format('embedded-opentype'),\n",
       "       url('//cdnjs.cloudflare.com/ajax/libs/twitter-bootstrap/3.3.7/fonts/glyphicons-halflings-regular.woff2') format('woff2'),\n",
       "       url('//cdnjs.cloudflare.com/ajax/libs/twitter-bootstrap/3.3.7/fonts/glyphicons-halflings-regular.woff') format('woff'),\n",
       "       url('//cdnjs.cloudflare.com/ajax/libs/twitter-bootstrap/3.3.7/fonts/glyphicons-halflings-regular.ttf') format('truetype'),\n",
       "       url('//cdnjs.cloudflare.com/ajax/libs/twitter-bootstrap/3.3.7/fonts/glyphicons-halflings-regular.svg#glyphicons_halflingsregular') format('svg');\n",
       "}\n",
       ".glyphicon {\n",
       "  position: relative;\n",
       "  top: 1px;\n",
       "  display: inline-block;\n",
       "  font: normal normal 16px/1 'Glyphicons Halflings';\n",
       "  -moz-osx-font-smoothing: grayscale;\n",
       "  -webkit-font-smoothing: antialiased;\n",
       "  margin-right: 4px;\n",
       "}\n",
       "\n",
       "blockquote.callout{padding-left:5px;padding-top:0;padding-bottom:0;padding-right:0;border:1px solid;border-color:#f4fd9c;padding-bottom:5px}.callout h2{padding-top:5px;padding-bottom:5px;font-size:20px;background:linear-gradient(to bottom, #f4fd9c, #f5fda6);border-color:#f4fd9c;margin-top:0px;margin-left:-5px}.callout h2:before{font-family:'Glyphicons Halflings';content:\"\";float:left;padding-left:5px;padding-right:5px;display:inline-block;-webkit-font-smoothing:antialiased}\n",
       "\n",
       "blockquote.challenge{padding-left:5px;padding-top:0;padding-bottom:0;padding-right:0;border:1px solid;border-color:#eec275;padding-bottom:5px}.challenge h2{padding-top:5px;padding-bottom:5px;font-size:20px;background:linear-gradient(to bottom, #eec275, #f0c883);border-color:#eec275;margin-top:0px;margin-left:-5px}.challenge h2:before{font-family:'Glyphicons Halflings';content:\"✏\";float:left;padding-left:5px;padding-right:5px;display:inline-block;-webkit-font-smoothing:antialiased}\n",
       "\n",
       "blockquote.checklist{padding-left:5px;padding-top:0;padding-bottom:0;padding-right:0;border:1px solid;border-color:#dfd2a0;padding-bottom:5px}.checklist h2{padding-top:5px;padding-bottom:5px;font-size:20px;background:linear-gradient(to bottom, #dfd2a0, #e2d7aa);border-color:#dfd2a0;margin-top:0px;margin-left:-5px}.checklist h2:before{font-family:'Glyphicons Halflings';content:\"\";float:left;padding-left:5px;padding-right:5px;display:inline-block;-webkit-font-smoothing:antialiased}\n",
       "\n",
       "blockquote.discussion{padding-left:5px;padding-top:0;padding-bottom:0;padding-right:0;border:1px solid;border-color:#eec275;padding-bottom:5px}.discussion h2{padding-top:5px;padding-bottom:5px;font-size:20px;background:linear-gradient(to bottom, #eec275, #f0c883);border-color:#eec275;margin-top:0px;margin-left:-5px}.discussion h2:before{font-family:'Glyphicons Halflings';content:\"\";float:left;padding-left:5px;padding-right:5px;display:inline-block;-webkit-font-smoothing:antialiased}\n",
       "\n",
       "blockquote.keypoints{padding-left:5px;padding-top:0;padding-bottom:0;padding-right:0;border:1px solid;border-color:#7ae78e;padding-bottom:5px}.keypoints h2{padding-top:5px;padding-bottom:5px;font-size:20px;background:linear-gradient(to bottom, #7ae78e, #87e999);border-color:#7ae78e;margin-top:0px;margin-left:-5px}.keypoints h2:before{font-family:'Glyphicons Halflings';content:\"\";float:left;padding-left:5px;padding-right:5px;display:inline-block;-webkit-font-smoothing:antialiased}\n",
       "\n",
       "blockquote.objectives{padding-left:5px;padding-top:0;padding-bottom:0;padding-right:0;border:1px solid;border-color:#daee84;padding-bottom:5px}.objectives h2{padding-top:5px;padding-bottom:5px;font-size:20px;background:linear-gradient(to bottom, #daee84, #def090);border-color:#daee84;margin-top:0px;margin-left:-5px}.objectives h2:before{font-family:'Glyphicons Halflings';content:\"\";float:left;padding-left:5px;padding-right:5px;display:inline-block;-webkit-font-smoothing:antialiased}\n",
       "\n",
       "blockquote.prereq{padding-left:5px;padding-top:0;padding-bottom:0;padding-right:0;border:1px solid;border-color:#9cd6dc;padding-bottom:5px}.prereq h2{padding-top:5px;padding-bottom:5px;font-size:20px;background:linear-gradient(to bottom, #9cd6dc, #a6dae0);border-color:#9cd6dc;margin-top:0px;margin-left:-5px}.prereq h2:before{font-family:'Glyphicons Halflings';content:\"\";float:left;padding-left:5px;padding-right:5px;display:inline-block;-webkit-font-smoothing:antialiased}\n",
       "\n",
       "blockquote.solution{padding-left:5px;padding-top:0;padding-bottom:0;padding-right:0;border:1px solid;border-color:#ded4b9;padding-bottom:5px}.solution h2{padding-top:5px;padding-bottom:5px;font-size:20px;background:linear-gradient(to bottom, #ded4b9, #e1d8c0);border-color:#ded4b9;margin-top:0px;margin-left:-5px}.solution h2:before{font-family:'Glyphicons Halflings';content:\"\";float:left;padding-left:5px;padding-right:5px;display:inline-block;-webkit-font-smoothing:antialiased}\n",
       "\n",
       "blockquote.testimonial{padding-left:5px;padding-top:0;padding-bottom:0;padding-right:0;border:1px solid;border-color:#fc8dc1;padding-bottom:5px}.testimonial h2{padding-top:5px;padding-bottom:5px;font-size:20px;background:linear-gradient(to bottom, #fc8dc1, #fc98c7);border-color:#fc8dc1;margin-top:0px;margin-left:-5px}.testimonial h2:before{font-family:'Glyphicons Halflings';content:\"\";float:left;padding-left:5px;padding-right:5px;display:inline-block;-webkit-font-smoothing:antialiased}code{padding:0 0;color:inherit;background-color:inherit}\n",
       "</style>"
      ],
      "text/plain": [
       "<IPython.core.display.HTML object>"
      ]
     },
     "execution_count": 28,
     "metadata": {},
     "output_type": "execute_result"
    }
   ],
   "source": [
    "# This cell enables software carpentry lesson styling\n",
    "from IPython.core.display import HTML\n",
    "with open( './carpentries-lesson.css', 'r' ) as f: style = f.read()\n",
    "HTML( style )"
   ]
  },
  {
   "cell_type": "code",
   "execution_count": null,
   "metadata": {},
   "outputs": [],
   "source": []
  }
 ],
 "metadata": {
  "kernelspec": {
   "display_name": "Python [conda env:dinosar]",
   "language": "python",
   "name": "conda-env-dinosar-py"
  },
  "language_info": {
   "codemirror_mode": {
    "name": "ipython",
    "version": 3
   },
   "file_extension": ".py",
   "mimetype": "text/x-python",
   "name": "python",
   "nbconvert_exporter": "python",
   "pygments_lexer": "ipython3",
   "version": "3.7.3"
  }
 },
 "nbformat": 4,
 "nbformat_minor": 4
}
