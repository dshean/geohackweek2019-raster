{
 "cells": [
  {
   "cell_type": "markdown",
   "metadata": {},
   "source": [
    "# First pass at new raster tutorial material\n",
    "\n",
    "The target area corresponds to hotosm task 5678 with the following bounding box [104.917171, 16.330147, 105.805508, 15.294198]\n",
    "https://tasks.hotosm.org/project/5678#bottom\n",
    "\n",
    "The hotosm task used to kickoff Geohack will cover a different area. Chase Stephens from OSM Seattle (CC'ed) will try to secure a clean task for us (~1 month in advance) which focuses on delineating buildings, as is the focus for task 5678. \n",
    "\n",
    "Goals identified by Friederich:\n",
    "- pull in open source raster data on the fly for the specified bounding box, at a resolution sufficient to delineate buildings\n",
    "- learn how to explore the data using rasterio and gdal etc.\n",
    "- groom and clean - ready for ML (could be as simple as changing the projection and dropping unnecessary bands, for example)\n",
    "- if open raster data sources aren’t at a high enough resolution - good discussion point - can stage a dataset that is. this would also teach folks how to add in their own data and coregister it into the same coordinate system and projection."
   ]
  },
  {
   "cell_type": "code",
   "execution_count": 9,
   "metadata": {},
   "outputs": [],
   "source": [
    "bbox = [104.917171, 16.330147, 105.805508, 15.294198]\n",
    "west, north, east, south = bbox\n",
    "bbox_ctr = [0.5*(north+south), 0.5*(west+east)]"
   ]
  },
  {
   "cell_type": "markdown",
   "metadata": {},
   "source": [
    "## 1) Look at a leaflet slippy map to get accustomed to area of interest"
   ]
  },
  {
   "cell_type": "code",
   "execution_count": 10,
   "metadata": {},
   "outputs": [
    {
     "data": {
      "application/vnd.jupyter.widget-view+json": {
       "model_id": "4c28feebb1fe46c8babc9ec69687e0ff",
       "version_major": 2,
       "version_minor": 0
      },
      "text/plain": [
       "Map(basemap={'url': 'https://{s}.tile.openstreetmap.org/{z}/{x}/{y}.png', 'max_zoom': 19, 'attribution': 'Map …"
      ]
     },
     "metadata": {},
     "output_type": "display_data"
    }
   ],
   "source": [
    "import ipyleaflet\n",
    "from ipyleaflet import Map, Rectangle\n",
    "m = Map(center=bbox_ctr, zoom=6)\n",
    "rectangle = Rectangle(bounds=((south, west), (north, east))) #SW and NE corners of the rectangle (lat, lon)\n",
    "m.add_layer(rectangle)\n",
    "m"
   ]
  },
  {
   "cell_type": "markdown",
   "metadata": {},
   "source": [
    "## 2) NASA GIBS provides free imagery tiles that can be easily displayed with ipyleaflet\n",
    "\n",
    "The NASA Worldview web application is a way to explore all GIBS datasets https://worldview.earthdata.nasa.gov/\n",
    "More here: https://earthdata.nasa.gov/eosdis/science-system-description/eosdis-components/gibs\n",
    "\n",
    "NOTES: \n",
    "* add some information about MODIS. Coarse resolution, not optimal for building detection, but daily and free!\n",
    "* also, odds are there are clouds obstructing your view of earth's surface!\n",
    "* GIBS has pre-rendered images good for visualizations, if you're interested in analytic values for scientific analysis, this isn't the best option"
   ]
  },
  {
   "cell_type": "code",
   "execution_count": 14,
   "metadata": {},
   "outputs": [
    {
     "data": {
      "application/vnd.jupyter.widget-view+json": {
       "model_id": "48eb6c217c064b869b4c9c401bd5f176",
       "version_major": 2,
       "version_minor": 0
      },
      "text/plain": [
       "Map(basemap={'url': 'https://{s}.tile.openstreetmap.org/{z}/{x}/{y}.png', 'max_zoom': 19, 'attribution': 'Map …"
      ]
     },
     "metadata": {},
     "output_type": "display_data"
    }
   ],
   "source": [
    "from ipyleaflet import basemaps, basemap_to_tiles, TileLayer, SplitMapControl, Polygon\n",
    "\n",
    "m = Map(center=bbox_ctr, zoom=6)\n",
    "\n",
    "right_layer = basemap_to_tiles(basemaps.NASAGIBS.ModisTerraTrueColorCR, \"2019-06-30\")\n",
    "left_layer = TileLayer()\n",
    "control = SplitMapControl(left_layer=left_layer, right_layer=right_layer)\n",
    "m.add_control(control)\n",
    "\n",
    "m.add_layer(rectangle)\n",
    "\n",
    "m"
   ]
  },
  {
   "cell_type": "markdown",
   "metadata": {},
   "source": [
    "## 3) Sat-search is a tool to discover free imagery on AWS \n",
    "\n",
    "https://registry.opendata.aws/\n",
    "    \n",
    "    \n",
    "NOTES: \n",
    "* add a table comparing Landsat8, Sentinel2, CBERS (resolution/posting, repeat interval)"
   ]
  },
  {
   "cell_type": "code",
   "execution_count": 17,
   "metadata": {},
   "outputs": [],
   "source": [
    "import satsearch"
   ]
  },
  {
   "cell_type": "code",
   "execution_count": 20,
   "metadata": {},
   "outputs": [
    {
     "name": "stdout",
     "output_type": "stream",
     "text": [
      "447 items\n"
     ]
    }
   ],
   "source": [
    "# Custom syntax (additional fields, query strings instead of query dict)\n",
    "properties =  [\"landsat:tier=T1\"] \n",
    "bbox = (west, south, east, north) #(min lon, min lat, max lon, max lat)\n",
    "results = satsearch.Search.search(collection='landsat-8-l1', \n",
    "                        bbox=bbox, \n",
    "                        sort=['<datetime'], #earliest scene first\n",
    "                        property=properties)\n",
    "print('%s items' % results.found())"
   ]
  },
  {
   "cell_type": "code",
   "execution_count": 22,
   "metadata": {},
   "outputs": [],
   "source": [
    "# Save for later/sharing with others\n",
    "from satstac import Items\n",
    "\n",
    "items = results.items()\n",
    "items.save('items.json')\n",
    "items = Items.load('items.json')\n",
    "#items.bbox()"
   ]
  },
  {
   "cell_type": "code",
   "execution_count": 23,
   "metadata": {},
   "outputs": [
    {
     "name": "stdout",
     "output_type": "stream",
     "text": [
      "records: 447\n"
     ]
    },
    {
     "data": {
      "text/html": [
       "<div>\n",
       "<style scoped>\n",
       "    .dataframe tbody tr th:only-of-type {\n",
       "        vertical-align: middle;\n",
       "    }\n",
       "\n",
       "    .dataframe tbody tr th {\n",
       "        vertical-align: top;\n",
       "    }\n",
       "\n",
       "    .dataframe thead th {\n",
       "        text-align: right;\n",
       "    }\n",
       "</style>\n",
       "<table border=\"1\" class=\"dataframe\">\n",
       "  <thead>\n",
       "    <tr style=\"text-align: right;\">\n",
       "      <th></th>\n",
       "      <th>id</th>\n",
       "      <th>collection</th>\n",
       "      <th>datetime</th>\n",
       "      <th>eo:sun_azimuth</th>\n",
       "      <th>eo:sun_elevation</th>\n",
       "      <th>eo:cloud_cover</th>\n",
       "      <th>eo:row</th>\n",
       "      <th>eo:column</th>\n",
       "      <th>landsat:product_id</th>\n",
       "      <th>landsat:scene_id</th>\n",
       "      <th>landsat:processing_level</th>\n",
       "      <th>landsat:tier</th>\n",
       "      <th>eo:epsg</th>\n",
       "      <th>eo:instrument</th>\n",
       "      <th>eo:off_nadir</th>\n",
       "      <th>eo:platform</th>\n",
       "      <th>eo:bands</th>\n",
       "      <th>eo:gsd</th>\n",
       "      <th>landsat:revision</th>\n",
       "      <th>geometry</th>\n",
       "    </tr>\n",
       "  </thead>\n",
       "  <tbody>\n",
       "    <tr>\n",
       "      <th>0</th>\n",
       "      <td>LC81270482013093LGN02</td>\n",
       "      <td>landsat-8-l1</td>\n",
       "      <td>2013-04-03T03:25:50</td>\n",
       "      <td>113.391559</td>\n",
       "      <td>62.940947</td>\n",
       "      <td>33</td>\n",
       "      <td>048</td>\n",
       "      <td>127</td>\n",
       "      <td>LC08_L1TP_127048_20130403_20170505_01_T1</td>\n",
       "      <td>LC81270482013093LGN02</td>\n",
       "      <td>L1TP</td>\n",
       "      <td>T1</td>\n",
       "      <td>32648</td>\n",
       "      <td>OLI_TIRS</td>\n",
       "      <td>0</td>\n",
       "      <td>landsat-8</td>\n",
       "      <td>[ { \"full_width_half_max\": 0.02, \"center_wavel...</td>\n",
       "      <td>15</td>\n",
       "      <td>None</td>\n",
       "      <td>POLYGON ((103.9001025239973 18.33384943378347,...</td>\n",
       "    </tr>\n",
       "    <tr>\n",
       "      <th>1</th>\n",
       "      <td>LC81270492013093LGN02</td>\n",
       "      <td>landsat-8-l1</td>\n",
       "      <td>2013-04-03T03:26:14</td>\n",
       "      <td>110.525644</td>\n",
       "      <td>63.279740</td>\n",
       "      <td>24</td>\n",
       "      <td>049</td>\n",
       "      <td>127</td>\n",
       "      <td>LC08_L1TP_127049_20130403_20170505_01_T1</td>\n",
       "      <td>LC81270492013093LGN02</td>\n",
       "      <td>L1TP</td>\n",
       "      <td>T1</td>\n",
       "      <td>32648</td>\n",
       "      <td>OLI_TIRS</td>\n",
       "      <td>0</td>\n",
       "      <td>landsat-8</td>\n",
       "      <td>[ { \"full_width_half_max\": 0.02, \"center_wavel...</td>\n",
       "      <td>15</td>\n",
       "      <td>None</td>\n",
       "      <td>POLYGON ((103.5790674890864 16.89265606069266,...</td>\n",
       "    </tr>\n",
       "    <tr>\n",
       "      <th>2</th>\n",
       "      <td>LC81260492013098LGN02</td>\n",
       "      <td>landsat-8-l1</td>\n",
       "      <td>2013-04-08T03:22:47</td>\n",
       "      <td>106.960273</td>\n",
       "      <td>64.409286</td>\n",
       "      <td>99</td>\n",
       "      <td>049</td>\n",
       "      <td>126</td>\n",
       "      <td>LC08_L1TP_126049_20130408_20170505_01_T1</td>\n",
       "      <td>LC81260492013098LGN02</td>\n",
       "      <td>L1TP</td>\n",
       "      <td>T1</td>\n",
       "      <td>32648</td>\n",
       "      <td>OLI_TIRS</td>\n",
       "      <td>0</td>\n",
       "      <td>landsat-8</td>\n",
       "      <td>[ { \"full_width_half_max\": 0.02, \"center_wavel...</td>\n",
       "      <td>15</td>\n",
       "      <td>None</td>\n",
       "      <td>POLYGON ((104.4758565819867 16.88532916228322,...</td>\n",
       "    </tr>\n",
       "    <tr>\n",
       "      <th>3</th>\n",
       "      <td>LC81260492013105LGN03</td>\n",
       "      <td>landsat-8-l1</td>\n",
       "      <td>2013-04-15T03:20:39</td>\n",
       "      <td>101.611233</td>\n",
       "      <td>65.716617</td>\n",
       "      <td>15</td>\n",
       "      <td>049</td>\n",
       "      <td>126</td>\n",
       "      <td>LC08_L1TP_126049_20130415_20180523_01_T1</td>\n",
       "      <td>LC81260492013105LGN03</td>\n",
       "      <td>L1TP</td>\n",
       "      <td>T1</td>\n",
       "      <td>32648</td>\n",
       "      <td>OLI_TIRS</td>\n",
       "      <td>0</td>\n",
       "      <td>landsat-8</td>\n",
       "      <td>[ { \"full_width_half_max\": 0.02, \"center_wavel...</td>\n",
       "      <td>15</td>\n",
       "      <td>None</td>\n",
       "      <td>POLYGON ((105.0321488643234 16.88585447649133,...</td>\n",
       "    </tr>\n",
       "    <tr>\n",
       "      <th>4</th>\n",
       "      <td>LC81260502013105LGN03</td>\n",
       "      <td>landsat-8-l1</td>\n",
       "      <td>2013-04-15T03:21:03</td>\n",
       "      <td>98.314642</td>\n",
       "      <td>65.754833</td>\n",
       "      <td>54</td>\n",
       "      <td>050</td>\n",
       "      <td>126</td>\n",
       "      <td>LC08_L1TP_126050_20130415_20180523_01_T1</td>\n",
       "      <td>LC81260502013105LGN03</td>\n",
       "      <td>L1TP</td>\n",
       "      <td>T1</td>\n",
       "      <td>32648</td>\n",
       "      <td>OLI_TIRS</td>\n",
       "      <td>0</td>\n",
       "      <td>landsat-8</td>\n",
       "      <td>[ { \"full_width_half_max\": 0.02, \"center_wavel...</td>\n",
       "      <td>15</td>\n",
       "      <td>None</td>\n",
       "      <td>POLYGON ((104.7144716209946 15.44129277521946,...</td>\n",
       "    </tr>\n",
       "  </tbody>\n",
       "</table>\n",
       "</div>"
      ],
      "text/plain": [
       "                      id    collection             datetime  eo:sun_azimuth  \\\n",
       "0  LC81270482013093LGN02  landsat-8-l1  2013-04-03T03:25:50      113.391559   \n",
       "1  LC81270492013093LGN02  landsat-8-l1  2013-04-03T03:26:14      110.525644   \n",
       "2  LC81260492013098LGN02  landsat-8-l1  2013-04-08T03:22:47      106.960273   \n",
       "3  LC81260492013105LGN03  landsat-8-l1  2013-04-15T03:20:39      101.611233   \n",
       "4  LC81260502013105LGN03  landsat-8-l1  2013-04-15T03:21:03       98.314642   \n",
       "\n",
       "   eo:sun_elevation  eo:cloud_cover eo:row eo:column  \\\n",
       "0         62.940947              33    048       127   \n",
       "1         63.279740              24    049       127   \n",
       "2         64.409286              99    049       126   \n",
       "3         65.716617              15    049       126   \n",
       "4         65.754833              54    050       126   \n",
       "\n",
       "                         landsat:product_id       landsat:scene_id  \\\n",
       "0  LC08_L1TP_127048_20130403_20170505_01_T1  LC81270482013093LGN02   \n",
       "1  LC08_L1TP_127049_20130403_20170505_01_T1  LC81270492013093LGN02   \n",
       "2  LC08_L1TP_126049_20130408_20170505_01_T1  LC81260492013098LGN02   \n",
       "3  LC08_L1TP_126049_20130415_20180523_01_T1  LC81260492013105LGN03   \n",
       "4  LC08_L1TP_126050_20130415_20180523_01_T1  LC81260502013105LGN03   \n",
       "\n",
       "  landsat:processing_level landsat:tier  eo:epsg eo:instrument  eo:off_nadir  \\\n",
       "0                     L1TP           T1    32648      OLI_TIRS             0   \n",
       "1                     L1TP           T1    32648      OLI_TIRS             0   \n",
       "2                     L1TP           T1    32648      OLI_TIRS             0   \n",
       "3                     L1TP           T1    32648      OLI_TIRS             0   \n",
       "4                     L1TP           T1    32648      OLI_TIRS             0   \n",
       "\n",
       "  eo:platform                                           eo:bands  eo:gsd  \\\n",
       "0   landsat-8  [ { \"full_width_half_max\": 0.02, \"center_wavel...      15   \n",
       "1   landsat-8  [ { \"full_width_half_max\": 0.02, \"center_wavel...      15   \n",
       "2   landsat-8  [ { \"full_width_half_max\": 0.02, \"center_wavel...      15   \n",
       "3   landsat-8  [ { \"full_width_half_max\": 0.02, \"center_wavel...      15   \n",
       "4   landsat-8  [ { \"full_width_half_max\": 0.02, \"center_wavel...      15   \n",
       "\n",
       "  landsat:revision                                           geometry  \n",
       "0             None  POLYGON ((103.9001025239973 18.33384943378347,...  \n",
       "1             None  POLYGON ((103.5790674890864 16.89265606069266,...  \n",
       "2             None  POLYGON ((104.4758565819867 16.88532916228322,...  \n",
       "3             None  POLYGON ((105.0321488643234 16.88585447649133,...  \n",
       "4             None  POLYGON ((104.7144716209946 15.44129277521946,...  "
      ]
     },
     "execution_count": 23,
     "metadata": {},
     "output_type": "execute_result"
    }
   ],
   "source": [
    "import geopandas as gpd\n",
    "\n",
    "# Load results to pandas geodataframe\n",
    "gf = gpd.read_file('items.json')\n",
    "gf = gf.sort_values('datetime').reset_index(drop=True)\n",
    "print('records:', len(gf))\n",
    "gf.head()"
   ]
  },
  {
   "cell_type": "code",
   "execution_count": 24,
   "metadata": {},
   "outputs": [
    {
     "ename": "ModuleNotFoundError",
     "evalue": "No module named 'hvplot'",
     "output_type": "error",
     "traceback": [
      "\u001b[0;31m---------------------------------------------------------------------------\u001b[0m",
      "\u001b[0;31mModuleNotFoundError\u001b[0m                       Traceback (most recent call last)",
      "\u001b[0;32m<ipython-input-24-837867c3ccb2>\u001b[0m in \u001b[0;36m<module>\u001b[0;34m\u001b[0m\n\u001b[1;32m      1\u001b[0m \u001b[0;31m# Plot search AOI and frames on a map\u001b[0m\u001b[0;34m\u001b[0m\u001b[0;34m\u001b[0m\u001b[0;34m\u001b[0m\u001b[0m\n\u001b[1;32m      2\u001b[0m \u001b[0;32mimport\u001b[0m \u001b[0mholoviews\u001b[0m \u001b[0;32mas\u001b[0m \u001b[0mhv\u001b[0m\u001b[0;34m\u001b[0m\u001b[0;34m\u001b[0m\u001b[0m\n\u001b[0;32m----> 3\u001b[0;31m \u001b[0;32mimport\u001b[0m \u001b[0mhvplot\u001b[0m\u001b[0;34m.\u001b[0m\u001b[0mxarray\u001b[0m\u001b[0;34m\u001b[0m\u001b[0;34m\u001b[0m\u001b[0m\n\u001b[0m\u001b[1;32m      4\u001b[0m \u001b[0;32mimport\u001b[0m \u001b[0mhvplot\u001b[0m\u001b[0;34m.\u001b[0m\u001b[0mpandas\u001b[0m\u001b[0;34m\u001b[0m\u001b[0;34m\u001b[0m\u001b[0m\n\u001b[1;32m      5\u001b[0m \u001b[0;32mimport\u001b[0m \u001b[0mgeoviews\u001b[0m \u001b[0;32mas\u001b[0m \u001b[0mgv\u001b[0m\u001b[0;34m\u001b[0m\u001b[0;34m\u001b[0m\u001b[0m\n",
      "\u001b[0;31mModuleNotFoundError\u001b[0m: No module named 'hvplot'"
     ]
    }
   ],
   "source": [
    "# Plot search AOI and frames on a map\n",
    "import holoviews as hv\n",
    "import hvplot.xarray\n",
    "import hvplot.pandas\n",
    "import geoviews as gv\n",
    "\n",
    "footprints = gf.loc[:,('id','geometry')].hvplot(geo=True)\n",
    "tiles = gv.tile_sources.CartoEco.options(width=700, height=500) #.redim.range(Latitude=(45, 50), Longitude=(-126,-120)) \n",
    "labels = gv.tile_sources.StamenLabels.options(level='annotation')\n",
    "tiles * footprints * labels"
   ]
  },
  {
   "cell_type": "code",
   "execution_count": null,
   "metadata": {},
   "outputs": [],
   "source": []
  }
 ],
 "metadata": {
  "kernelspec": {
   "display_name": "Python 3",
   "language": "python",
   "name": "python3"
  },
  "language_info": {
   "codemirror_mode": {
    "name": "ipython",
    "version": 3
   },
   "file_extension": ".py",
   "mimetype": "text/x-python",
   "name": "python",
   "nbconvert_exporter": "python",
   "pygments_lexer": "ipython3",
   "version": "3.7.3"
  }
 },
 "nbformat": 4,
 "nbformat_minor": 4
}
