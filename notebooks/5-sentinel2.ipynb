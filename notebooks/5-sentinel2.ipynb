{
 "cells": [
  {
   "cell_type": "markdown",
   "metadata": {},
   "source": [
    "# Sentinel-2\n",
    "\n",
    "\n",
    "<div class=\"alert-info\">\n",
    "\n",
    "### Overview\n",
    "    \n",
    "* **teaching:** 30 minutes\n",
    "* **exercises:** 0\n",
    "* **questions:**\n",
    "    * How can I find, anaylize, and visualize Sentinel-2 satellite imagery for an area of interest using Python?\n",
    "    \n",
    "</div>\n",
    "\n",
    "\n",
    "This notebook will focus on accessing public datasets on AWS for a target area affected by Cyclone Kenneth (2019-04-25). Read more about this event and its impact at the [Humanitarian Open Street Map website](https://tasks.hotosm.org/project/5977). We will use a bounding box we will work with covers the island of Nagazidja, including the captial [city of Moroni](https://en.wikipedia.org/wiki/Moroni,_Comoros) - Union of the Comoros, a sovereign archipelago nation in the Indian Ocean. \n",
    "\n",
    "We will examine raster images from the [Sentinel-2 instrument](https://sentinel.esa.int/web/sentinel/missions/sentinel-2) operated by the European Space Agency. Sentinel-2 is an electro-optical imager that has slightly different bands compared to Landsat8. For more information about sentinel-2 check out the [comprehensive user guide](https://sentinel.esa.int/web/sentinel/user-guides/sentinel-2-msi)."
   ]
  },
  {
   "cell_type": "markdown",
   "metadata": {},
   "source": [
    "## Table of contents\n",
    "\n",
    "1. [**Sat-search**](#Sat-search)\n",
    "    1. [**STAC Data Model**](#STAC-Metadata)\n",
    "    1. [**STAC with geopandas**](#STAC-with-geopandas)\n",
    "1. [**Holoviz visualization**](#Holoviz)\n",
    "1. [**Rasterio and xarray**](#Rasterio-and-xarray)"
   ]
  },
  {
   "cell_type": "code",
   "execution_count": null,
   "metadata": {},
   "outputs": [],
   "source": [
    "# Import libraries\n",
    "import geopandas as gpd\n",
    "import pandas as pd\n",
    "\n",
    "import satsearch\n",
    "from satstac import Items\n",
    "\n",
    "import holoviews as hv\n",
    "import hvplot.xarray\n",
    "import hvplot.pandas\n",
    "import geoviews as gv\n",
    "\n",
    "import ipywidgets\n",
    "import datetime\n",
    "\n",
    "from ipywidgets import interact\n",
    "from IPython.display import display, Image\n",
    "\n",
    "import json\n",
    "from cartopy import crs as ccrs\n",
    "\n",
    "import rasterio\n",
    "import rasterio.mask\n",
    "from rasterio.session import AWSSession\n",
    "import xarray as xr\n",
    "\n",
    "import matplotlib.pyplot as plt\n",
    "from matplotlib.colors import LogNorm\n",
    "%matplotlib inline"
   ]
  },
  {
   "cell_type": "markdown",
   "metadata": {},
   "source": [
    "## Sat-search \n",
    "\n",
    "[Sat-search](https://github.com/sat-utils/sat-search) is open-source software designed to easily discover public imagery on AWS. It depends upon metadata called Spatio-Temporal Asset Catalogs [STAC catalogs](https://stacspec.org/) to filter scenes. We will use it to search for Sentinel-2 data covering our area of interest."
   ]
  },
  {
   "cell_type": "code",
   "execution_count": null,
   "metadata": {},
   "outputs": [],
   "source": [
    "# Set up our bounding box\n",
    "bbox = [43.16, -11.32, 43.54, -11.96]\n",
    "west, north, east, south = bbox\n",
    "bbox_ctr = [0.5*(north+south), 0.5*(west+east)]"
   ]
  },
  {
   "cell_type": "code",
   "execution_count": null,
   "metadata": {},
   "outputs": [],
   "source": [
    "# bbox as a python list is great for use in python, but we can instead save to a more interoperable format (GeoJSON)\n",
    "# Here is a great website for creating and visualizing geojson on a map: http://geojson.io\n",
    "aoi = { \"type\": \"Polygon\", \n",
    "    \"coordinates\": [[[west, south], [west, north], [east, north], [east, south], [west, south]]]\n",
    "}\n",
    "# pretty print formatting\n",
    "#print(json.dumps(aoi, sort_keys=False, indent=2))\n",
    "\n",
    "# save to file for future use\n",
    "with open('aoi-5977.geojson', 'w') as f:\n",
    "    json.dump(aoi, f)"
   ]
  },
  {
   "cell_type": "code",
   "execution_count": null,
   "metadata": {},
   "outputs": [],
   "source": [
    "# Load results to pandas geodataframe\n",
    "# now other packages such as geojson can read this file\n",
    "gfa = gpd.read_file('aoi-5977.geojson')\n",
    "gfa"
   ]
  },
  {
   "cell_type": "markdown",
   "metadata": {},
   "source": [
    "### STAC Metadata\n",
    "\n",
    "STAC metadata consists of catalogs that have catalogs, collections, and items. Actual paths or urls to images are stored as \"assets\" for an item. The following cells illustrate this data model using the [sat-stac library](https://github.com/sat-utils/sat-stac)."
   ]
  },
  {
   "cell_type": "code",
   "execution_count": null,
   "metadata": {},
   "outputs": [],
   "source": [
    "# Get results for bbox and time range\n",
    "# Sentinel-2 data is available in many locations https://www.usgs.gov/centers/eros/science/usgs-eros-archive-sentinel-2\n",
    "# https://sentinel.esa.int/web/sentinel/sentinel-data-access\n",
    "# https://gdal.org/drivers/raster/sentinel2.html\n",
    "\n",
    "# remember we are searching data on AWS:\n",
    "#https://registry.opendata.aws/sentinel-2/ \n",
    "\n",
    "results = satsearch.Search(bbox=bbox, datetime='2019-02-01/2019-06-01')\n",
    "print('%s items' % results.found())\n",
    "items = results.items()\n",
    "print('%s collections:' % len(items._collections))\n",
    "print(items._collections)"
   ]
  },
  {
   "cell_type": "code",
   "execution_count": null,
   "metadata": {},
   "outputs": [],
   "source": [
    "# If you are unfamiliar with one of these satellites, we can look at stored metadata\n",
    "col = items._collections[0]\n",
    "\n",
    "print('Title:', col.title)\n",
    "print('Collection Version:', col.version)\n",
    "print('Keywords: ', col.keywords)\n",
    "print('License:', col.license)\n",
    "print('Providers:', col.providers)\n",
    "print('Extent', col.extent)"
   ]
  },
  {
   "cell_type": "code",
   "execution_count": null,
   "metadata": {},
   "outputs": [],
   "source": [
    "# We can delve deeper to see what kind of metadata is available at the scene level\n",
    "for key in col.properties:\n",
    "    if key == 'eo:bands':\n",
    "        [print(band) for band in col[key]]\n",
    "    else:\n",
    "        print('%s: %s' % (key, col[key]))"
   ]
  },
  {
   "cell_type": "code",
   "execution_count": null,
   "metadata": {},
   "outputs": [],
   "source": [
    "# Plot single band, full resolution\n",
    "item = items[5]\n",
    "band = 'red'\n",
    "print(item.assets.keys())\n",
    "print(item.assets_by_common_name.keys())\n",
    "print(item.asset('thumbnail')['href'])\n",
    "url = item.asset(band)['href']\n",
    "print(url)"
   ]
  },
  {
   "cell_type": "code",
   "execution_count": null,
   "metadata": {},
   "outputs": [],
   "source": [
    "# Slightly different search syntax\n",
    "properties = [] # additional filters\n",
    "results = satsearch.Search.search(collection='sentinel-2-l1c', \n",
    "                        datetime='2019-02-01/2019-06-01',\n",
    "                        bbox=bbox, \n",
    "                        sort=['<datetime'], #earliest scene first\n",
    "                        property=properties)\n",
    "print('%s items' % results.found())"
   ]
  },
  {
   "cell_type": "code",
   "execution_count": null,
   "metadata": {},
   "outputs": [],
   "source": [
    "# Might want to reduce the date further with other filters\n",
    "properties.extend([\"eo:cloud_cover<10\"])\n",
    "\n",
    "results = satsearch.Search.search(collection='sentinel-2-l1c', \n",
    "                        datetime='2019-02-01/2019-06-01',\n",
    "                        bbox=bbox, \n",
    "                        sort=['<datetime'], #earliest scene first\n",
    "                        property=properties)\n",
    "print('%s items' % results.found())"
   ]
  },
  {
   "cell_type": "markdown",
   "metadata": {},
   "source": [
    "## STAC with geopandas\n",
    "\n",
    "The geopandas library provides a nice data model for organizing and visualizing STAC catalogs"
   ]
  },
  {
   "cell_type": "code",
   "execution_count": null,
   "metadata": {},
   "outputs": [],
   "source": [
    "items = results.items()\n",
    "items.save('items-sentinel2.json')\n",
    "#items = Items.load('items-sentinel2.json')\n",
    "#items.bbox()"
   ]
  },
  {
   "cell_type": "code",
   "execution_count": null,
   "metadata": {},
   "outputs": [],
   "source": [
    "# Assets correspond to actual images related to a STAC metadata item\n",
    "#items[0].assets"
   ]
  },
  {
   "cell_type": "code",
   "execution_count": null,
   "metadata": {},
   "outputs": [],
   "source": [
    "# Use pandas to better display python dictionaries!\n",
    "pd.DataFrame(items[0].assets).T.reset_index()"
   ]
  },
  {
   "cell_type": "code",
   "execution_count": null,
   "metadata": {},
   "outputs": [],
   "source": [
    "# Put items into a geopandas geodataframe with image footprints\n",
    "gfs = gpd.read_file('items-sentinel2.json')\n",
    "gfs = gfs.sort_values('datetime').reset_index(drop=True)\n",
    "print('records:', len(gfs))\n",
    "gfs.head()"
   ]
  },
  {
   "cell_type": "code",
   "execution_count": null,
   "metadata": {},
   "outputs": [],
   "source": [
    "gfs.iloc[0]['eo:bands']"
   ]
  },
  {
   "cell_type": "code",
   "execution_count": null,
   "metadata": {},
   "outputs": [],
   "source": [
    "import ast\n",
    "band_info = pd.DataFrame(ast.literal_eval(gfs.iloc[0]['eo:bands']))\n",
    "band_info"
   ]
  },
  {
   "cell_type": "markdown",
   "metadata": {},
   "source": [
    "## Holoviz\n",
    "\n",
    "[Holoviz](https://holoviz.org/) is a set of Python visualization libraries that simplify interactive visualizations of data in a web-browser. We'll use several of these libraries including hvplot and geoviews to visualize both vector data (such as image footprints) and raster data (actual raster values). \n",
    "\n",
    "<div class=\"alert-warning\">\n",
    "\n",
    "#### Note \n",
    "    \n",
    "the toolbars on the right and side of these plots. We are using a library called Bokeh that gives interactive widgets to zoom in and pan around on maps.\n",
    "</div>"
   ]
  },
  {
   "cell_type": "code",
   "execution_count": null,
   "metadata": {},
   "outputs": [],
   "source": [
    "# Plot search AOI and frames on a map using Holoviz Libraries\n",
    "cols = gfs.loc[:,('id','sentinel:latitude_band','sentinel:grid_square', 'geometry')]\n",
    "\n",
    "footprints = cols.hvplot(geo=True, line_color='k', alpha=0.1, title='Sentinel-2')\n",
    "aoi = gfa.hvplot(geo=True, line_color='b', fill_color=None)\n",
    "tiles = gv.tile_sources.CartoEco.options(width=700, height=500) \n",
    "labels = gv.tile_sources.StamenLabels.options(level='annotation')\n",
    "tiles * footprints * aoi * labels"
   ]
  },
  {
   "cell_type": "markdown",
   "metadata": {},
   "source": [
    "## ipywidgets\n",
    "\n",
    "[ipywidgets](https://ipywidgets.readthedocs.io/en/latest/) provide another convenient approach to custom visualizations. The function below allows us to browse through all the image thumbnails for a group of images (more specifically a specific Sentinel1 grid square and latitute band). "
   ]
  },
  {
   "cell_type": "code",
   "execution_count": null,
   "metadata": {},
   "outputs": [],
   "source": [
    "# Browse all thumbnails, no date restriction\n",
    "properties =  [\"sentinel:latitude_band=L\",\n",
    "               \"sentinel:grid_square=LN\",\n",
    "               \"eo:cloud_cover<10\"] \n",
    "results = satsearch.Search.search(collection='sentinel-2-l1c',\n",
    "                        bbox=bbox, \n",
    "                        datetime='2019-03-01/2019-09-01',\n",
    "                        sort=['<datetime'], #earliest scene first\n",
    "                        property=properties)\n",
    "print('%s items' % results.found())\n",
    "items = results.items()\n",
    "items.save('my-sentinel2-archive.json')"
   ]
  },
  {
   "cell_type": "code",
   "execution_count": null,
   "metadata": {},
   "outputs": [],
   "source": [
    "def browse_images(items):\n",
    "    n = len(items)\n",
    "\n",
    "    def view_image(i=0):\n",
    "        item = items[i]\n",
    "        print(f\"id={item.id}\\tdate={item.datetime}\\tcloud%={item['eo:cloud_cover']}\")\n",
    "        display(Image(item.asset('thumbnail')['href']))\n",
    "    \n",
    "    interact(view_image, i=(0,n-1))"
   ]
  },
  {
   "cell_type": "code",
   "execution_count": null,
   "metadata": {},
   "outputs": [],
   "source": [
    "# Right click on image below and select 'new view for output'\n",
    "browse_images(items)"
   ]
  },
  {
   "cell_type": "markdown",
   "metadata": {},
   "source": [
    "## Rasterio and xarray\n",
    "\n",
    "Thumbnails are great for quickly looking through imagery, but to actually load full resolution data from a particular Sentinel-2 band we'll use rasterio and xarray libraries."
   ]
  },
  {
   "cell_type": "code",
   "execution_count": null,
   "metadata": {},
   "outputs": [],
   "source": [
    "#our geodataframe provides a nice mapping from frameid to urls for each band\n",
    "gf = gpd.read_file('items-sentinel2.json')\n",
    "# Excercise: turn this into a function\n",
    "\n",
    "frameid = 'S2B_38LLN_20190415_0'"
   ]
  },
  {
   "cell_type": "code",
   "execution_count": null,
   "metadata": {},
   "outputs": [],
   "source": []
  },
  {
   "cell_type": "markdown",
   "metadata": {},
   "source": [
    "### AWS credentials for requester-pays buckets\n",
    "\n",
    "<div class=\"alert-warning\">\n",
    "\n",
    "#### Note \n",
    "    \n",
    "* [Sentinel-2 data on AWS](https://registry.opendata.aws/sentinel-2) is stored in the **eu-central-1** region in a \"requester pays\" bucket. So unlike Landsat-8, which currently has open public access, we need to set up AWS authentication to pull full resolution images.\n",
    "    \n",
    "* Be aware that our hub is running in us-east-1, so this data is being moved from Europe and we are paying for it! If you wanted to work with a lot of Sentinel-2 data, you should operate in the eu-central-1 region. [Blog post about this](https://medium.com/@_VincentS_/do-you-really-want-people-using-your-data-ec94cd94dc3f).\n",
    "</div>"
   ]
  },
  {
   "cell_type": "code",
   "execution_count": null,
   "metadata": {},
   "outputs": [],
   "source": [
    "# Configure requester-pays access with rasterio\n",
    "env = rasterio.Env(AWSSession(region_name='eu-central-1', \n",
    "                              requester_pays=True),\n",
    "                  )"
   ]
  },
  {
   "cell_type": "code",
   "execution_count": null,
   "metadata": {},
   "outputs": [],
   "source": [
    "def url2s3(url, bucket='sentinel-s2-l1c'):\n",
    "    \"\"\" convert public url to s3 path \"\"\"\n",
    "    key = url.split('amazonaws.com')[1]\n",
    "    return f's3://{bucket}{key}'"
   ]
  },
  {
   "cell_type": "code",
   "execution_count": null,
   "metadata": {},
   "outputs": [],
   "source": [
    "s3path = url2s3(url)"
   ]
  },
  {
   "cell_type": "code",
   "execution_count": null,
   "metadata": {},
   "outputs": [],
   "source": [
    "with env:\n",
    "    with rasterio.open(s3path) as src:\n",
    "        print(src.profile)"
   ]
  },
  {
   "cell_type": "code",
   "execution_count": null,
   "metadata": {},
   "outputs": [],
   "source": [
    "with env:\n",
    "    with rasterio.open(s3path) as src:\n",
    "        width = src.width\n",
    "        blockx = src.profile['blockxsize']\n",
    "        blocky = src.profile['blockysize']\n",
    "        #print(src.profile)\n",
    "        xchunk = int(width/blockx)*blockx\n",
    "        ychunk = blocky\n",
    "        da = xr.open_rasterio(src, chunks={'band': 1, 'x': xchunk, 'y': ychunk})\n",
    "da"
   ]
  },
  {
   "cell_type": "code",
   "execution_count": null,
   "metadata": {},
   "outputs": [],
   "source": [
    "# NOTE: different EPSG code compared to Landsat: epsg 32738\n",
    "#https://spatialreference.org/ref/epsg/wgs-84-utm-zone-38s/"
   ]
  },
  {
   "cell_type": "code",
   "execution_count": null,
   "metadata": {},
   "outputs": [],
   "source": [
    "# This will pull raster data over network. if operating in the same AWS region, should be very fast!\n",
    "\n",
    "img = da.hvplot.image(rasterize=True, logz=True, width=700, height=500, cmap='reds', title=f'{item.id} ({band})')\n",
    "\n",
    "img "
   ]
  },
  {
   "cell_type": "code",
   "execution_count": null,
   "metadata": {},
   "outputs": [],
   "source": []
  }
 ],
 "metadata": {
  "kernelspec": {
   "display_name": "Python [conda env:notebook] *",
   "language": "python",
   "name": "conda-env-notebook-py"
  },
  "language_info": {
   "codemirror_mode": {
    "name": "ipython",
    "version": 3
   },
   "file_extension": ".py",
   "mimetype": "text/x-python",
   "name": "python",
   "nbconvert_exporter": "python",
   "pygments_lexer": "ipython3",
   "version": "3.7.3"
  }
 },
 "nbformat": 4,
 "nbformat_minor": 4
}
