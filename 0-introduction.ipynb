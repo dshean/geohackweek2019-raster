{
 "cells": [
  {
   "cell_type": "markdown",
   "metadata": {},
   "source": [
    "# Introduction to Raster Data\n",
    "\n",
    "This notebook based on content from previous geohackweek raster tutorials https://github.com/geohackweek/raster\n",
    "\n",
    "<blockquote class=\"objectives\">\n",
    "    \n",
    "## Overview\n",
    "\n",
    "<div style=\"float: left;\">\n",
    "\n",
    "**teaching:** 15 minutes\n",
    "    \n",
    "**exercises:** 0\n",
    "    </div> \n",
    "    \n",
    "|questions| objectives | \n",
    "|:----------| :---  |\n",
    "| What is a raster?  | Understand the raster data model |  \n",
    "|What are the main attributes of raster data? | Describe the strengths and weaknesses of storing data in raster format | \n",
    " \n",
    "</blockquote>\n"
   ]
  },
  {
   "cell_type": "markdown",
   "metadata": {},
   "source": [
    "### Table of contents\n",
    "\n",
    "1. [**Data Structures: Raster and Vector**](#Data-Structures:-Raster-and-Vector)\n",
    "    1. [About Raster Data](#About-Raster-Data)\n",
    "    1. [Examples of continuous rasters](#Examples-of-continuous-rasters)\n",
    "    1. [Examples of categorical rasters](#Examples-of-categorical-rasters)\n",
    "1. [**Advantages and Disadvantages**](#Advantages-and-Disadvantages)\n",
    "1. [**What makes a raster geospatial?**](#What-makes-a-raster-geospatial?)\n",
    "    1. [Coordinate Reference System or \"CRS\"](#Coordinate-Reference-System-or-\"CRS\")\n",
    "    1. [Affine Geotransformation](#Affine-Geotransformation)\n",
    "1. [**Multi-band Raster Data**](#Multi-band-Raster-Data)\n",
    "1. [**Additional-Resources**](#Additional-Resources)"
   ]
  },
  {
   "cell_type": "markdown",
   "metadata": {},
   "source": [
    "## Data Structures: Raster and Vector\n",
    "\n",
    "The two primary types of geospatial data are raster and vector data. Vector data structures represent specific features on the Earth's surface, and assign attributes to those features. Raster data is stored as a grid of values which are rendered on a map as pixels. Each pixel value represents an area on the Earth's surface. In the 1950's raster graphics were noted as a faster and cheaper (but lower-resolution) alternative to vector graphics.\n",
    "\n",
    "### About Raster Data\n",
    "\n",
    "Raster data is any pixelated (or gridded) data where each pixel is associated with a specific geographical location. The value of a pixel can be continuous (e.g. elevation) or categorical (e.g. land use). \n",
    "\n",
    "If this sounds familiar, it is because this data structure is very common: it's how we represent any digital image. A geospatial raster is only different from a digital photo in that it is accompanied by spatial information that connects the data to a particular location. This includes the raster's extent and cell size, the number of rows and columns, and its coordinate reference system (or CRS).\n",
    "\n",
    "<img src=\"raster_concept.png\" width=\"500\" height=\"500\" />\n",
    "\n",
    "\n",
    "*Source: National Ecological Observatory Network (NEON)*\n"
   ]
  },
  {
   "cell_type": "markdown",
   "metadata": {},
   "source": [
    "### Examples of continuous rasters\n",
    "\n",
    "1. Orthorectified multispectral imagery such as those acquired by [Landsat](https://landsat.usgs.gov) or [MODIS](https://modis.gsfc.nasa.gov) sensors\n",
    "2. Digital Elevation Models (DEMs) such as [ASTER GDEM](https://asterweb.jpl.nasa.gov/gdem.asp)\n",
    "3. Maps of canopy height derived from LiDAR data.\n",
    "\n",
    "A map of elevation for Harvard Forest derived from the [NEON AOP LiDAR sensor](http://www.neonscience.org/data-collection/airborne-remote-sensing)\n",
    "is below. Elevation is represented as continuous numeric variable in this map. The legend\n",
    "shows the continuous range of values in the data from around 300 to 420 meters.\n",
    "\n",
    "\n",
    "<img src=\"rmd-01-elevation-map-1.png\" width=\"500\" height=\"500\" />"
   ]
  },
  {
   "cell_type": "markdown",
   "metadata": {},
   "source": [
    "### Examples of categorical rasters\n",
    "\n",
    "Some rasters contain categorical data where each pixel represents a discrete class such as a landcover type (e.g., \"forest\" or \"grassland\") rather than a continuous value such as elevation or temperature. Some examples of classified\n",
    "maps include:\n",
    "\n",
    "1. Landcover / land-use maps.\n",
    "2. Tree height maps classified as short, medium, and tall trees.\n",
    "3. Snowcover masks (binary snow or no snow)\n",
    "\n",
    "\n",
    "The following map shows elevation data for the NEON Harvard Forest field site. In this map, the elevation data (a continuous variable) has been divided up into categories to yield a categorical raster. \n",
    "\n",
    "<img src=\"rmd-01-classified-elevation-map-1.png\" width=\"500\" height=\"500\" />"
   ]
  },
  {
   "cell_type": "markdown",
   "metadata": {},
   "source": [
    "## Advantages and Disadvantages\n",
    "\n",
    "| Advantages | Disadvantages |\n",
    "| ----- | --- | \n",
    "| representation of continuous surfaces | very large file sizes as cell size gets smaller | \n",
    "| potentially very high levels of detail | can be difficult to represent complex information |\n",
    "| data is 'unweighted' across its extent  | Measurements are spatially arranged in a regular grid, which may not be an accurate representation of real-world phenomena. |  \n",
    "| cell-by-cell calculations can be very fast and efficient | Space-filling model assumes that all pixels have value |\n",
    "| | Changes in resolution can drastically change the meaning of values in a dataset |\n"
   ]
  },
  {
   "cell_type": "markdown",
   "metadata": {},
   "source": [
    "## What makes a raster geospatial?\n",
    "\n",
    "A raster is just an image in local pixel coordinates until we specify what part of the earth the image covers.  This is done through two pieces of metadata that accompany the pixel values of the image:\n",
    "\n",
    "### Coordinate Reference System or \"CRS\"\n",
    "This specifies the datum, projection, and additional parameters needed to place the raster in geographic space. For a dedicated lesson on CRSs, see: \n",
    "[https://datacarpentry.org/organization-geospatial/03-crs/index.html](https://datacarpentry.org/organization-geospatial/03-crs/index.html)\n",
    "\n",
    "<img src=\"us_crs.jpg\" width=\"500\" height=\"500\" />\n",
    "\n",
    "### Affine Geotransformation \n",
    "\n",
    "This dictates the size, tilt and layout of the raster's pixels.  This is the essential matrix that relates the raster pixel coordinates (rows, columns) to the geographic coordiantes (x and y defined by the CRS). This is typically a 6-parameter matrix that defines the origin, pixel size and rotation of the raster in the geographic coordinate system:\n",
    "```bash\n",
    "Xgeo = GT(0) + Xpixel*GT(1) + Yline*GT(2)\n",
    "Ygeo = GT(3) + Xpixel*GT(4) + Yline*GT(5)\n",
    "```\n",
    "Defining this for the whole image allows the image's pixels to be referenced by a local array index rather than global coordinates, and answers questions such as:\n",
    "\n",
    "    * How much area does a given pixel cover?\n",
    "    * Given the CRS, what is the origin?\n",
    "    * In what direction does the raster \"grow\" as pixel indices increase?\n",
    "\n",
    "#### Extent / BBOX\n",
    "\n",
    "The affine transformation specifies an \"extent\" or \"bounding box\", which is defined by the minimum and maximum x and y coordinates of the data.\n",
    "\n",
    "#### Resolution / Posting\n",
    "\n",
    "The affine transformation specifies a pixel size of the area on the ground that each pixel of the raster covers. This is often refered to as \"resolution\", but because images are often resampled to different resolutions it is also refered to as \"posting\". Ultimately, \"resolution\" refers to a sensors ability to distinguish different objects on the ground. The image below illustrates the effect of changes in resolution: \n",
    "\n",
    "![Resolution image](raster_resolution.png)\n",
    "\n",
    "*Source: National Ecological Observatory Network (NEON)*\n",
    "\n"
   ]
  },
  {
   "cell_type": "markdown",
   "metadata": {},
   "source": [
    "## Multi-band Raster Data\n",
    "\n",
    "A raster can contain one or more bands. In a multi-band dataset, the rasters will always have the same extent,\n",
    "resolution, and CRS. Each band represents light reflected from the red, green or blue portions of the electromagnetic spectrum. The pixel brightness for each band, when composited creates the colors that we see in an image.\n",
    "\n",
    "<img src=\"ETM+vOLI-TIRS-web_Feb20131_sm.jpg\" width=\"700\"/>\n",
    "\n",
    "*Source: L.Rocchio & J.Barsi*\n",
    "\n",
    "\n",
    "One type of multi-band raster dataset that is familiar to many of us is a color image. A basic color image consists of three bands: red, green, and blue.\n",
    "\n",
    "<img src=\"RGBSTack_1.jpg\" width=\"700\"/>\n",
    "*Source: National Ecological Observatory Network (NEON).*\n",
    "\n",
    "<blockquote class=\"callout\">\n",
    "    \n",
    "## Multi-band raster data might also contain\n",
    "1. Time series: the same variable, over the same area, over time\n",
    "2. Multi or hyperspectral imagery: image rasters that have 4 or more (multi-spectral) or more than 10-15 (hyperspectral) bands\n",
    "</blockquote>"
   ]
  },
  {
   "cell_type": "markdown",
   "metadata": {},
   "source": [
    "## Additional Resources\n",
    "\n",
    "There is a lot of material out there describing rasters! \n",
    "\n",
    "Here is another tutorial put together by datacarpenty: [https://datacarpentry.org/organization-geospatial/01-intro-raster-data/index.html](https://datacarpentry.org/organization-geospatial/01-intro-raster-data/index.html)"
   ]
  },
  {
   "cell_type": "markdown",
   "metadata": {},
   "source": [
    "<blockquote class=\"keypoints\">\n",
    "\n",
    "## key points \n",
    "\n",
    "* Raster data is pixelated data where each pixel is associated with a specific location \n",
    "* Raster data always has an extent (geographical area) and a resolution (separation distance of distinguishable distinct objects) \n",
    "\n",
    "</blockquote class=\"keypoints\">"
   ]
  },
  {
   "cell_type": "code",
   "execution_count": 1,
   "metadata": {},
   "outputs": [
    {
     "data": {
      "text/html": [
       "<style>\n",
       "@font-face {\n",
       "  font-family: 'Glyphicons Halflings';\n",
       "  src: url('//cdnjs.cloudflare.com/ajax/libs/twitter-bootstrap/3.3.7/fonts/glyphicons-halflings-regular.eot');\n",
       "  src: url('//cdnjs.cloudflare.com/ajax/libs/twitter-bootstrap/3.3.7/fonts/glyphicons-halflings-regular.eot?#iefix') format('embedded-opentype'),\n",
       "       url('//cdnjs.cloudflare.com/ajax/libs/twitter-bootstrap/3.3.7/fonts/glyphicons-halflings-regular.woff2') format('woff2'),\n",
       "       url('//cdnjs.cloudflare.com/ajax/libs/twitter-bootstrap/3.3.7/fonts/glyphicons-halflings-regular.woff') format('woff'),\n",
       "       url('//cdnjs.cloudflare.com/ajax/libs/twitter-bootstrap/3.3.7/fonts/glyphicons-halflings-regular.ttf') format('truetype'),\n",
       "       url('//cdnjs.cloudflare.com/ajax/libs/twitter-bootstrap/3.3.7/fonts/glyphicons-halflings-regular.svg#glyphicons_halflingsregular') format('svg');\n",
       "}\n",
       ".glyphicon {\n",
       "  position: relative;\n",
       "  top: 1px;\n",
       "  display: inline-block;\n",
       "  font: normal normal 16px/1 'Glyphicons Halflings';\n",
       "  -moz-osx-font-smoothing: grayscale;\n",
       "  -webkit-font-smoothing: antialiased;\n",
       "  margin-right: 4px;\n",
       "}\n",
       "\n",
       "blockquote.callout{padding-left:5px;padding-top:0;padding-bottom:0;padding-right:0;border:1px solid;border-color:#f4fd9c;padding-bottom:5px}.callout h2{padding-top:5px;padding-bottom:5px;font-size:20px;background:linear-gradient(to bottom, #f4fd9c, #f5fda6);border-color:#f4fd9c;margin-top:0px;margin-left:-5px}.callout h2:before{font-family:'Glyphicons Halflings';content:\"\";float:left;padding-left:5px;padding-right:5px;display:inline-block;-webkit-font-smoothing:antialiased}\n",
       "\n",
       "blockquote.challenge{padding-left:5px;padding-top:0;padding-bottom:0;padding-right:0;border:1px solid;border-color:#eec275;padding-bottom:5px}.challenge h2{padding-top:5px;padding-bottom:5px;font-size:20px;background:linear-gradient(to bottom, #eec275, #f0c883);border-color:#eec275;margin-top:0px;margin-left:-5px}.challenge h2:before{font-family:'Glyphicons Halflings';content:\"✏\";float:left;padding-left:5px;padding-right:5px;display:inline-block;-webkit-font-smoothing:antialiased}\n",
       "\n",
       "blockquote.checklist{padding-left:5px;padding-top:0;padding-bottom:0;padding-right:0;border:1px solid;border-color:#dfd2a0;padding-bottom:5px}.checklist h2{padding-top:5px;padding-bottom:5px;font-size:20px;background:linear-gradient(to bottom, #dfd2a0, #e2d7aa);border-color:#dfd2a0;margin-top:0px;margin-left:-5px}.checklist h2:before{font-family:'Glyphicons Halflings';content:\"\";float:left;padding-left:5px;padding-right:5px;display:inline-block;-webkit-font-smoothing:antialiased}\n",
       "\n",
       "blockquote.discussion{padding-left:5px;padding-top:0;padding-bottom:0;padding-right:0;border:1px solid;border-color:#eec275;padding-bottom:5px}.discussion h2{padding-top:5px;padding-bottom:5px;font-size:20px;background:linear-gradient(to bottom, #eec275, #f0c883);border-color:#eec275;margin-top:0px;margin-left:-5px}.discussion h2:before{font-family:'Glyphicons Halflings';content:\"\";float:left;padding-left:5px;padding-right:5px;display:inline-block;-webkit-font-smoothing:antialiased}\n",
       "\n",
       "blockquote.keypoints{padding-left:5px;padding-top:0;padding-bottom:0;padding-right:0;border:1px solid;border-color:#7ae78e;padding-bottom:5px}.keypoints h2{padding-top:5px;padding-bottom:5px;font-size:20px;background:linear-gradient(to bottom, #7ae78e, #87e999);border-color:#7ae78e;margin-top:0px;margin-left:-5px}.keypoints h2:before{font-family:'Glyphicons Halflings';content:\"\";float:left;padding-left:5px;padding-right:5px;display:inline-block;-webkit-font-smoothing:antialiased}\n",
       "\n",
       "blockquote.objectives{padding-left:5px;padding-top:0;padding-bottom:0;padding-right:0;border:1px solid;border-color:#daee84;padding-bottom:5px}.objectives h2{padding-top:5px;padding-bottom:5px;font-size:20px;background:linear-gradient(to bottom, #daee84, #def090);border-color:#daee84;margin-top:0px;margin-left:-5px}.objectives h2:before{font-family:'Glyphicons Halflings';content:\"\";float:left;padding-left:5px;padding-right:5px;display:inline-block;-webkit-font-smoothing:antialiased}\n",
       "\n",
       "blockquote.prereq{padding-left:5px;padding-top:0;padding-bottom:0;padding-right:0;border:1px solid;border-color:#9cd6dc;padding-bottom:5px}.prereq h2{padding-top:5px;padding-bottom:5px;font-size:20px;background:linear-gradient(to bottom, #9cd6dc, #a6dae0);border-color:#9cd6dc;margin-top:0px;margin-left:-5px}.prereq h2:before{font-family:'Glyphicons Halflings';content:\"\";float:left;padding-left:5px;padding-right:5px;display:inline-block;-webkit-font-smoothing:antialiased}\n",
       "\n",
       "blockquote.solution{padding-left:5px;padding-top:0;padding-bottom:0;padding-right:0;border:1px solid;border-color:#ded4b9;padding-bottom:5px}.solution h2{padding-top:5px;padding-bottom:5px;font-size:20px;background:linear-gradient(to bottom, #ded4b9, #e1d8c0);border-color:#ded4b9;margin-top:0px;margin-left:-5px}.solution h2:before{font-family:'Glyphicons Halflings';content:\"\";float:left;padding-left:5px;padding-right:5px;display:inline-block;-webkit-font-smoothing:antialiased}\n",
       "\n",
       "blockquote.testimonial{padding-left:5px;padding-top:0;padding-bottom:0;padding-right:0;border:1px solid;border-color:#fc8dc1;padding-bottom:5px}.testimonial h2{padding-top:5px;padding-bottom:5px;font-size:20px;background:linear-gradient(to bottom, #fc8dc1, #fc98c7);border-color:#fc8dc1;margin-top:0px;margin-left:-5px}.testimonial h2:before{font-family:'Glyphicons Halflings';content:\"\";float:left;padding-left:5px;padding-right:5px;display:inline-block;-webkit-font-smoothing:antialiased}code{padding:0 0;color:inherit;background-color:inherit}\n",
       "</style>"
      ],
      "text/plain": [
       "<IPython.core.display.HTML object>"
      ]
     },
     "execution_count": 1,
     "metadata": {},
     "output_type": "execute_result"
    }
   ],
   "source": [
    "# This cell enables software carpentry lesson styling\n",
    "from IPython.core.display import HTML\n",
    "with open( './carpentries-lesson.css', 'r' ) as f: style = f.read()\n",
    "HTML( style )"
   ]
  }
 ],
 "metadata": {
  "kernelspec": {
   "display_name": "Python 3",
   "language": "python",
   "name": "python3"
  },
  "language_info": {
   "codemirror_mode": {
    "name": "ipython",
    "version": 3
   },
   "file_extension": ".py",
   "mimetype": "text/x-python",
   "name": "python",
   "nbconvert_exporter": "python",
   "pygments_lexer": "ipython3",
   "version": "3.7.3"
  }
 },
 "nbformat": 4,
 "nbformat_minor": 4
}
