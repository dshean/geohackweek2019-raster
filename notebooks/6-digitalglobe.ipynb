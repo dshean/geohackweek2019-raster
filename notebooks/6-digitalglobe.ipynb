{
 "cells": [
  {
   "cell_type": "markdown",
   "metadata": {},
   "source": [
    "# DigitalGlobe\n",
    "\n",
    "<div class=\"alert-info\">\n",
    "\n",
    "### Overview\n",
    "    \n",
    "* **teaching:** 30 minutes\n",
    "* **exercises:** 0\n",
    "* **questions:**\n",
    "    * How can I find, anaylize, and visualize DigitalGlobe satellite imagery for an area of interest using Python?\n",
    "    \n",
    "</div>\n",
    "\n",
    "\n",
    "This notebook will focus on accessing public datasets on AWS for a target area affected by Cyclone Kenneth (2019-04-25). Read more about this event and its impact at the [Humanitarian Open Street Map website](https://tasks.hotosm.org/project/5977). We will use a bounding box we will work with covers the island of Nagazidja, including the captial [city of Moroni](https://en.wikipedia.org/wiki/Moroni,_Comoros) - Union of the Comoros, a sovereign archipelago nation in the Indian Ocean. \n",
    "\n",
    "Sadly a lot of data out there is difficult to discover and manage. The [DigitalGlobe open data program](http://www.digitalglobe.com/ecosystem/open-data) is a tremendous resource, opening up traditionally costly high resolution optical imagery (50cm pixel postings!). However, we must manually find this website and download lists of image links without metadata or search functionality as we used with Landsat-8 and Sentinel-2."
   ]
  },
  {
   "cell_type": "code",
   "execution_count": null,
   "metadata": {},
   "outputs": [],
   "source": [
    "import pandas as pd\n",
    "import geopandas as gpd\n",
    "\n",
    "import holoviews as hv\n",
    "import hvplot.xarray\n",
    "import hvplot.pandas\n",
    "import geoviews as gv\n",
    "\n",
    "import rasterio\n",
    "import numpy as np\n",
    "from ast import literal_eval\n",
    "\n",
    "import shapely\n",
    "\n",
    "from ipyleaflet import Map, basemaps, basemap_to_tiles, TileLayer, SplitMapControl, Polygon\n",
    "\n",
    "import matplotlib.pyplot as plt\n",
    "%matplotlib inline"
   ]
  },
  {
   "cell_type": "markdown",
   "metadata": {},
   "source": [
    "## Table of contents\n",
    "\n",
    "1. [**DIY raster database**](#Simple-raster-database)\n",
    "1. [**Visualize archive with holoviz**](#Visualize-archive-with-holoviz)"
   ]
  },
  {
   "cell_type": "markdown",
   "metadata": {},
   "source": [
    "## Simple raster database\n",
    "\n",
    "Since there is no STAC metadata for DigitalGlobe Open Data we need to create some sort of inventory to keep track of images. We'll use Geopandas for this, starting with a simple text file listing all the images on their website for Cyclone Kenneth https://www.digitalglobe.com/ecosystem/open-data/cyclone_kenneth "
   ]
  },
  {
   "cell_type": "code",
   "execution_count": null,
   "metadata": {},
   "outputs": [],
   "source": [
    "# Read the list of images (this was manually creating by downloading the lists from )\n",
    "df = pd.read_csv('../assets/dg-open-cyclone-kenneth.txt', names=['url'])"
   ]
  },
  {
   "cell_type": "code",
   "execution_count": null,
   "metadata": {},
   "outputs": [],
   "source": [
    "print(df.iloc[0:2].values)"
   ]
  },
  {
   "cell_type": "code",
   "execution_count": null,
   "metadata": {},
   "outputs": [],
   "source": [
    "# Keep only .tif entries, not .ovr\n",
    "df = df[df.url.str.endswith('tif')].reset_index(drop=True)"
   ]
  },
  {
   "cell_type": "code",
   "execution_count": null,
   "metadata": {},
   "outputs": [],
   "source": [
    "# add some columns by parsing the url\n",
    "df['datestr'] = df.url.str[60:70]\n",
    "df['id'] = df.url.str[71:87]\n",
    "df['frame'] = df.url.str[88:95]\n",
    "df.head()"
   ]
  },
  {
   "cell_type": "code",
   "execution_count": null,
   "metadata": {},
   "outputs": [],
   "source": [
    "df.info()"
   ]
  },
  {
   "cell_type": "code",
   "execution_count": null,
   "metadata": {},
   "outputs": [],
   "source": [
    "url = df.iloc[0].values[0]\n",
    "src = rasterio.open(url)\n",
    "src.lnglat() # center point\n",
    "#src.bounds # bounding box - would need to convert this to shapely polygon"
   ]
  },
  {
   "cell_type": "code",
   "execution_count": null,
   "metadata": {},
   "outputs": [],
   "source": [
    "#Some files throw error when opening: CPLE_OpenFailedError: '/vsicurl/https://opendata.digitalglobe.com/cyclone-kenneth/pre-event/2018-09-27/1050010012588300/3323313.tif' not recognized as a supported file format.\n",
    "def get_centroid(url):\n",
    "    try:\n",
    "        with rasterio.open(url) as src:\n",
    "            #return Point(src.lnglat())\n",
    "            return src.lnglat()\n",
    "    except:\n",
    "        print(f'no geometry for {url}')\n",
    "        return np.NaN"
   ]
  },
  {
   "cell_type": "code",
   "execution_count": null,
   "metadata": {},
   "outputs": [],
   "source": [
    "def get_bbox(url):\n",
    "    try:\n",
    "        with rasterio.open(url) as src:\n",
    "            ll = (src.bounds.left, src.bounds.bottom)\n",
    "            ul = (src.bounds.left, src.bounds.top)\n",
    "            ur = (src.bounds.right, src.bounds.top)\n",
    "            lr = (src.bounds.right, src.bounds.bottom)\n",
    "            coords = (ll, ul, ur, lr, ll)\n",
    "            #return Polygon(coords)\n",
    "            return coords\n",
    "    except:\n",
    "        print(f'no geometry for {url}')\n",
    "        return np.NaN"
   ]
  },
  {
   "cell_type": "code",
   "execution_count": null,
   "metadata": {},
   "outputs": [],
   "source": [
    "def get_valid_footprint(url):\n",
    "    # rasterio valid data mask\n",
    "    print(f'rio shapes {url} --as-mask --bidx 1 --precision 5 --sampling 10')\n",
    "    "
   ]
  },
  {
   "cell_type": "code",
   "execution_count": null,
   "metadata": {},
   "outputs": [],
   "source": [
    "#get_valid_footprint(url)"
   ]
  },
  {
   "cell_type": "code",
   "execution_count": null,
   "metadata": {},
   "outputs": [],
   "source": [
    "#%%time\n",
    "# Running apply is slow, will take about 2s per url but only need to run once!\n",
    "#df.url[:10].apply(get_centroid)"
   ]
  },
  {
   "cell_type": "code",
   "execution_count": null,
   "metadata": {},
   "outputs": [],
   "source": [
    "#%%time\n",
    "#df['centroid'] = df.url.apply(get_centroid)"
   ]
  },
  {
   "cell_type": "code",
   "execution_count": null,
   "metadata": {},
   "outputs": [],
   "source": [
    "#%%time\n",
    "#df['bbox'] = df.url.apply(get_bbox)"
   ]
  },
  {
   "cell_type": "code",
   "execution_count": null,
   "metadata": {},
   "outputs": [],
   "source": [
    "#df.drop(columns='geometry', inplace=True)\n",
    "#df.head()"
   ]
  },
  {
   "cell_type": "code",
   "execution_count": null,
   "metadata": {},
   "outputs": [],
   "source": [
    "# Turn into geodataframe and visualize with pyviz\n",
    "# Or just save to geojson and open on github / geojsonio / geojson jupyterhub extension\n",
    "#df.info()"
   ]
  },
  {
   "cell_type": "code",
   "execution_count": null,
   "metadata": {},
   "outputs": [],
   "source": [
    "#df.head()"
   ]
  },
  {
   "cell_type": "code",
   "execution_count": null,
   "metadata": {},
   "outputs": [],
   "source": [
    "# Save this index for use later\n",
    "#df.to_csv('dg-5877.csv', index=False)"
   ]
  },
  {
   "cell_type": "code",
   "execution_count": null,
   "metadata": {},
   "outputs": [],
   "source": [
    "# Save this index for use later\n",
    "df = pd.read_csv('../assets/dg-5877.csv')\n",
    "df.head()"
   ]
  },
  {
   "cell_type": "code",
   "execution_count": null,
   "metadata": {},
   "outputs": [],
   "source": [
    "shapely.geometry.Point(literal_eval(df.centroid.iloc[0]))\n",
    "shapely.geometry.Polygon(literal_eval(df.bbox.iloc[0]))"
   ]
  },
  {
   "cell_type": "code",
   "execution_count": null,
   "metadata": {},
   "outputs": [],
   "source": [
    "def to_shapely(string):\n",
    "    return shapely.geometry.Polygon(literal_eval(string))"
   ]
  },
  {
   "cell_type": "code",
   "execution_count": null,
   "metadata": {},
   "outputs": [],
   "source": [
    "geometries = df.bbox.apply(to_shapely)"
   ]
  },
  {
   "cell_type": "code",
   "execution_count": null,
   "metadata": {},
   "outputs": [],
   "source": [
    "gf = gpd.GeoDataFrame(df, geometry=geometries, crs={'init': 'epsg:4326'})"
   ]
  },
  {
   "cell_type": "code",
   "execution_count": null,
   "metadata": {},
   "outputs": [],
   "source": [
    "gf.head()"
   ]
  },
  {
   "cell_type": "markdown",
   "metadata": {},
   "source": [
    "## Visualize archive with holoviz \n",
    "\n",
    "Plot an interactive heat map with raster tiles visualized."
   ]
  },
  {
   "cell_type": "code",
   "execution_count": null,
   "metadata": {},
   "outputs": [],
   "source": [
    "# Plot search AOI and frames on a map\n",
    "import holoviews as hv\n",
    "import hvplot.xarray\n",
    "import hvplot.pandas\n",
    "import geoviews as gv\n",
    "\n",
    "# just keep id for hover tips\n",
    "cols = gf.loc[:,('datestr','frame','geometry')]\n",
    "footprints = cols.hvplot(geo=True, line_color='k', alpha=0.1, title='Digital Globe Cyclone Kenneth Images')\n",
    "#aoi = gfa.hvplot(geo=True, line_color='b', fill_color=None)\n",
    "tiles = gv.tile_sources.CartoEco.options(width=700, height=500) \n",
    "labels = gv.tile_sources.StamenLabels.options(level='annotation')\n",
    "tiles * footprints * labels"
   ]
  },
  {
   "cell_type": "code",
   "execution_count": null,
   "metadata": {},
   "outputs": [],
   "source": [
    "frameid = '3323122'\n",
    "subset = gf.query('frame == @frameid')\n",
    "subset.head()"
   ]
  },
  {
   "cell_type": "code",
   "execution_count": null,
   "metadata": {},
   "outputs": [],
   "source": [
    "# Pull some Digital Globe data based on shay's notebook\n",
    "cogurl = subset.url.iloc[1]\n",
    "with rasterio.open(cogurl) as src:\n",
    "    print(src.profile)\n",
    "    print(src.overviews(1))\n",
    "    oviews = src.overviews(1)"
   ]
  },
  {
   "cell_type": "code",
   "execution_count": null,
   "metadata": {},
   "outputs": [],
   "source": [
    "# Even higher resolution (4 meteres per pixel)\n",
    "# We can load low resolution \"overviews\" from a cloud-optimized geotiff efficiently\n",
    "# The grid of raster values can be accessed as a numpy array and plotted:\n",
    "with rasterio.open(cogurl) as src:\n",
    "    oview = oviews[-1] # let's look at the smallest thumbnail\n",
    "    print('Decimation factor= {}'.format(oview))\n",
    "    # NOTE this is using a 'decimated read' (http://rasterio.readthedocs.io/en/latest/topics/resampling.html)\n",
    "    thumbnail = src.read(out_shape=(3, int(src.height // oview), int(src.width // oview)))\n",
    "    \n",
    "print('array type: ',type(thumbnail))\n",
    "print(thumbnail)"
   ]
  },
  {
   "cell_type": "code",
   "execution_count": null,
   "metadata": {},
   "outputs": [],
   "source": [
    "# NOTE: could plot\n",
    "plt.imshow(thumbnail.transpose())\n",
    "plt.title('{} Overview - RGB {}'.format(subset.frame.iloc[1], thumbnail.transpose().shape))\n",
    "plt.xlabel('Column #')\n",
    "plt.ylabel('Row #')"
   ]
  },
  {
   "cell_type": "code",
   "execution_count": null,
   "metadata": {},
   "outputs": [],
   "source": [
    "# This is super cool!!!! use tiles.rdnt.io service to create full-resolution on the fly\n",
    "# Note Max zoom level for ipyleaflet maps is max_zoom=18\n",
    "# As you zoom in resolution improves\n",
    "\n",
    "service = 'https://tiles.rdnt.io/tiles/{z}/{x}/{y}'\n",
    "rgbcog = subset.url.iloc[1]\n",
    "center = subset.centroid.iloc[1].coords[0][::-1]\n",
    "\n",
    "url = f'{service}?url={rgbcog}'\n",
    "m = Map(center=center, zoom=12)\n",
    "\n",
    "right_layer = TileLayer(url=url)\n",
    "left_layer = TileLayer()\n",
    "control = SplitMapControl(left_layer=left_layer, right_layer=right_layer)\n",
    "m.add_control(control)\n",
    "\n",
    "#m.add_layer(rectangle)\n",
    "\n",
    "m"
   ]
  },
  {
   "cell_type": "code",
   "execution_count": null,
   "metadata": {},
   "outputs": [],
   "source": []
  }
 ],
 "metadata": {
  "kernelspec": {
   "display_name": "Python 3",
   "language": "python",
   "name": "python3"
  },
  "language_info": {
   "codemirror_mode": {
    "name": "ipython",
    "version": 3
   },
   "file_extension": ".py",
   "mimetype": "text/x-python",
   "name": "python",
   "nbconvert_exporter": "python",
   "pygments_lexer": "ipython3",
   "version": "3.7.3"
  }
 },
 "nbformat": 4,
 "nbformat_minor": 4
}
